{
 "cells": [
  {
   "cell_type": "markdown",
   "metadata": {},
   "source": [
    "# MAP 565 : Production Forecasting\n",
    "\n",
    "## Augustin Boissier & Maxime Pedron"
   ]
  },
  {
   "cell_type": "markdown",
   "metadata": {},
   "source": [
    "- Le but du mémoire est de faire une analyse statistique d'un ou plusieurs jeux de données au choix. L'objectif est de tirer de l'information pertinente et intéressante à partir de ces données.\n",
    "\n",
    "- Vous pouvez utiliser un unique jeu de données ou plusieurs jeu de données (n'ayant pas forcément de liens entre eux).\n",
    "Contrainte: vos données doivent comporter des données de 2021 (année 2021 ou données créés en 2021).\n",
    "\n",
    "- Sur la première page de votre mémoire: donner le lien pour que je puisse accéder aux données.\n",
    "\n",
    "-  Si vous avez vraiment des difficultés à trouver un jeu de données intéressant tenez-moi au courant.\n",
    "\n",
    "- Langage python, inutile de me mettre les codes. Bien sûr vous pouvez vous servir de packages existants.\n",
    "\n",
    "- 15 pages maximum.\n",
    "\n",
    "- Pour votre analyse, vous devrez utiliser nécessairement :\n",
    "\n",
    "---- Les séries temporelles linéaires (cours de M. Violante).\n",
    "\n",
    "Et au moins trois des quatre outils suivants\n",
    "\n",
    "---- Les processus de Hawkes\n",
    "\n",
    "---- Le théorie des extrêmes\n",
    "\n",
    "---- Les copules\n",
    "\n",
    "---- Les processus GARCH\n",
    "\n",
    "- Bonus pour l'utilisation des éléments vus dans les cours les matrices aléatoires et lors de la dernière séance (qui portera sur du machine learning).\n",
    "\n",
    "- Mémoire à faire à 2 (obligatoirement).\n",
    "\n",
    "- A me rendre sous format pdf obligatoire (pas notebook Python) pour le 10 avril 2022, dans un mail dont le titre sera \"Mémoire statistique\" à"
   ]
  },
  {
   "cell_type": "code",
   "execution_count": 58,
   "metadata": {},
   "outputs": [],
   "source": [
    "import numpy as np\n",
    "import pandas as pd\n",
    "\n",
    "import matplotlib.pylab as plt\n",
    "import seaborn as sns\n",
    "\n",
    "from sklearn.preprocessing import StandardScaler\n",
    "from sklearn import metrics\n",
    "from sklearn.ensemble import ExtraTreesClassifier\n",
    "\n",
    "%matplotlib inline\n",
    "\n",
    "from sklearn.model_selection import train_test_split\n",
    "from sklearn.model_selection import ShuffleSplit\n",
    "from sklearn.model_selection import cross_validate\n",
    "from sklearn.model_selection import cross_val_score\n",
    "import pandas as pd\n",
    "\n",
    "# 'oil_price_nom' colonne a predire"
   ]
  },
  {
   "cell_type": "code",
   "execution_count": 59,
   "metadata": {},
   "outputs": [
    {
     "name": "stdout",
     "output_type": "stream",
     "text": [
      "Importation effectuée\n"
     ]
    }
   ],
   "source": [
    "df = pd.read_csv(\"data/bitcoin.csv\")\n",
    "df = df.dropna()\n",
    "df['Time'] = pd.to_datetime(df['Timestamp'], unit='s')\n",
    "N = len(df)\n",
    "index = int(0.7 * N)\n",
    "df_train = df[:index]\n",
    "df_test = df[index:]\n",
    "print('Importation effectuée')"
   ]
  },
  {
   "cell_type": "code",
   "execution_count": null,
   "metadata": {},
   "outputs": [],
   "source": []
  },
  {
   "cell_type": "code",
   "execution_count": null,
   "metadata": {},
   "outputs": [],
   "source": []
  },
  {
   "cell_type": "code",
   "execution_count": null,
   "metadata": {},
   "outputs": [],
   "source": []
  },
  {
   "cell_type": "code",
   "execution_count": null,
   "metadata": {},
   "outputs": [],
   "source": []
  }
 ],
 "metadata": {
  "kernelspec": {
   "display_name": "Python 3",
   "language": "python",
   "name": "python3"
  },
  "language_info": {
   "codemirror_mode": {
    "name": "ipython",
    "version": 3
   },
   "file_extension": ".py",
   "mimetype": "text/x-python",
   "name": "python",
   "nbconvert_exporter": "python",
   "pygments_lexer": "ipython3",
   "version": "3.8.5"
  }
 },
 "nbformat": 4,
 "nbformat_minor": 4
}
